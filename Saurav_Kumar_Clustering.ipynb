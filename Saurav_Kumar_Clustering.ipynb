{
  "nbformat": 4,
  "nbformat_minor": 0,
  "metadata": {
    "colab": {
      "provenance": [],
      "toc_visible": true,
      "authorship_tag": "ABX9TyPBb1H3F4J55ZGC6Yb7d+Qk",
      "include_colab_link": true
    },
    "kernelspec": {
      "name": "python3",
      "display_name": "Python 3"
    },
    "language_info": {
      "name": "python"
    }
  },
  "cells": [
    {
      "cell_type": "markdown",
      "metadata": {
        "id": "view-in-github",
        "colab_type": "text"
      },
      "source": [
        "<a href=\"https://colab.research.google.com/github/Sauravkrgupta/Data-Science-Assignment/blob/main/Saurav_Kumar_Clustering.ipynb\" target=\"_parent\"><img src=\"https://colab.research.google.com/assets/colab-badge.svg\" alt=\"Open In Colab\"/></a>"
      ]
    },
    {
      "cell_type": "code",
      "execution_count": 60,
      "metadata": {
        "id": "m7e5lLzHr6Fy"
      },
      "outputs": [],
      "source": [
        "import pandas as pd"
      ]
    },
    {
      "cell_type": "code",
      "source": [
        "# Load datasets\n",
        "customers = pd.read_csv(\"Customers.csv\")"
      ],
      "metadata": {
        "id": "Km9kLOtr4bPl"
      },
      "execution_count": 61,
      "outputs": []
    },
    {
      "cell_type": "code",
      "source": [
        "transactions = pd.read_csv(\"Transactions.csv\")"
      ],
      "metadata": {
        "id": "MVRqHgdD7HPU"
      },
      "execution_count": 62,
      "outputs": []
    },
    {
      "cell_type": "code",
      "source": [
        "# Merge customers and transactions\n",
        "data = transactions.merge(customers, on=\"CustomerID\", how=\"inner\")"
      ],
      "metadata": {
        "id": "fBR47jd57K9S"
      },
      "execution_count": 63,
      "outputs": []
    },
    {
      "cell_type": "code",
      "source": [
        "# Aggregate transaction data for each customer\n",
        "customer_data = data.groupby(\"CustomerID\").agg(\n",
        "    TotalSpent=(\"TotalValue\", \"sum\"),\n",
        "    TotalTransactions=(\"TransactionID\", \"count\"),\n",
        "    TotalQuantity=(\"Quantity\", \"sum\"),\n",
        "    AvgTransactionValue=(\"TotalValue\", \"mean\")\n",
        ").reset_index()"
      ],
      "metadata": {
        "id": "K6rK5V0W7OMz"
      },
      "execution_count": 64,
      "outputs": []
    },
    {
      "cell_type": "code",
      "source": [
        "# Merge back region data\n",
        "customer_data = customer_data.merge(customers[[\"CustomerID\", \"Region\"]], on=\"CustomerID\")"
      ],
      "metadata": {
        "id": "RAvwWLyg7PfR"
      },
      "execution_count": 65,
      "outputs": []
    },
    {
      "cell_type": "code",
      "source": [
        "print(customer_data.head())"
      ],
      "metadata": {
        "colab": {
          "base_uri": "https://localhost:8080/"
        },
        "id": "ABjaQWL-7SYa",
        "outputId": "5b1f6d1f-d134-4e42-cdb6-4bf0f632e549"
      },
      "execution_count": 66,
      "outputs": [
        {
          "output_type": "stream",
          "name": "stdout",
          "text": [
            "  CustomerID  TotalSpent  TotalTransactions  TotalQuantity  \\\n",
            "0      C0001     3354.52                  5             12   \n",
            "1      C0002     1862.74                  4             10   \n",
            "2      C0003     2725.38                  4             14   \n",
            "3      C0004     5354.88                  8             23   \n",
            "4      C0005     2034.24                  3              7   \n",
            "\n",
            "   AvgTransactionValue         Region  \n",
            "0              670.904  South America  \n",
            "1              465.685           Asia  \n",
            "2              681.345  South America  \n",
            "3              669.360  South America  \n",
            "4              678.080           Asia  \n"
          ]
        }
      ]
    },
    {
      "cell_type": "code",
      "source": [
        "from sklearn.preprocessing import StandardScaler, LabelEncoder"
      ],
      "metadata": {
        "id": "W_DHqJnC7U2Q"
      },
      "execution_count": 67,
      "outputs": []
    },
    {
      "cell_type": "code",
      "source": [
        "# Encode categorical variables\n",
        "le = LabelEncoder()"
      ],
      "metadata": {
        "id": "QQzegJOI7XPe"
      },
      "execution_count": 68,
      "outputs": []
    },
    {
      "cell_type": "code",
      "source": [
        "customer_data[\"Region\"] = le.fit_transform(customer_data[\"Region\"])"
      ],
      "metadata": {
        "id": "Fy1Crx_q7Z-r"
      },
      "execution_count": 69,
      "outputs": []
    },
    {
      "cell_type": "code",
      "source": [
        "\n",
        "# Select features for clustering\n",
        "features = customer_data[[\"TotalSpent\", \"TotalTransactions\", \"TotalQuantity\", \"AvgTransactionValue\", \"Region\"]]\n"
      ],
      "metadata": {
        "id": "Gu_cJkEN7cRa"
      },
      "execution_count": 70,
      "outputs": []
    },
    {
      "cell_type": "code",
      "source": [
        "# Scale the features\n",
        "scaler = StandardScaler()"
      ],
      "metadata": {
        "id": "QihU-fK77etd"
      },
      "execution_count": 71,
      "outputs": []
    },
    {
      "cell_type": "code",
      "source": [
        "scaled_features = scaler.fit_transform(features)"
      ],
      "metadata": {
        "id": "w55GxLCN7hed"
      },
      "execution_count": 72,
      "outputs": []
    },
    {
      "cell_type": "code",
      "source": [
        "print(scaled_features[:5])"
      ],
      "metadata": {
        "colab": {
          "base_uri": "https://localhost:8080/"
        },
        "id": "6EpA0H2h7kxA",
        "outputId": "e37c84f7-1769-4daf-8695-0fdb9ccff416"
      },
      "execution_count": 73,
      "outputs": [
        {
          "output_type": "stream",
          "name": "stdout",
          "text": [
            "[[-0.06170143 -0.01145819 -0.12203296 -0.07026341  1.23740234]\n",
            " [-0.87774353 -0.46749414 -0.44800021 -0.93493297 -1.41989693]\n",
            " [-0.40585722 -0.46749414  0.20393428 -0.02627131  1.23740234]\n",
            " [ 1.03254704  1.35664965  1.67078689 -0.0767689   1.23740234]\n",
            " [-0.78392861 -0.92353008 -0.93695108 -0.04002806 -1.41989693]]\n"
          ]
        }
      ]
    },
    {
      "cell_type": "code",
      "source": [
        "from sklearn.cluster import KMeans"
      ],
      "metadata": {
        "id": "ljfkF-EK7nk7"
      },
      "execution_count": 74,
      "outputs": []
    },
    {
      "cell_type": "code",
      "source": [
        "from sklearn.metrics import davies_bouldin_score"
      ],
      "metadata": {
        "id": "RxEgJjRj7prR"
      },
      "execution_count": 75,
      "outputs": []
    },
    {
      "cell_type": "code",
      "source": [
        "# Determine the optimal number of clusters\n",
        "db_scores = []"
      ],
      "metadata": {
        "id": "l1VsKxXw7rpO"
      },
      "execution_count": 76,
      "outputs": []
    },
    {
      "cell_type": "code",
      "source": [
        "for k in range(2, 11):\n",
        "    kmeans = KMeans(n_clusters=k, random_state=42)\n",
        "    kmeans.fit(scaled_features)\n",
        "    labels = kmeans.labels_\n",
        "    db_index = davies_bouldin_score(scaled_features, labels)\n",
        "    db_scores.append((k, db_index))\n"
      ],
      "metadata": {
        "id": "3iGQ_S3t7t2B"
      },
      "execution_count": 77,
      "outputs": []
    },
    {
      "cell_type": "code",
      "source": [
        "# Select the best number of clusters based on DB Index\n",
        "optimal_clusters = sorted(db_scores, key=lambda x: x[1])[0][0]"
      ],
      "metadata": {
        "id": "4ftFawW071G6"
      },
      "execution_count": 78,
      "outputs": []
    },
    {
      "cell_type": "code",
      "source": [
        "print(f\"Optimal number of clusters: {optimal_clusters}\")\n"
      ],
      "metadata": {
        "colab": {
          "base_uri": "https://localhost:8080/"
        },
        "id": "QoJOfdfa76RF",
        "outputId": "b446cc29-f8fc-4bd8-8940-903c0947eaf0"
      },
      "execution_count": 79,
      "outputs": [
        {
          "output_type": "stream",
          "name": "stdout",
          "text": [
            "Optimal number of clusters: 10\n"
          ]
        }
      ]
    },
    {
      "cell_type": "code",
      "source": [
        "# Perform clustering with the optimal number of clusters\n",
        "kmeans = KMeans(n_clusters=optimal_clusters, random_state=42)"
      ],
      "metadata": {
        "id": "lOnfrPdA7_bd"
      },
      "execution_count": 80,
      "outputs": []
    },
    {
      "cell_type": "code",
      "source": [
        "customer_data[\"Cluster\"] = kmeans.fit_predict(scaled_features)"
      ],
      "metadata": {
        "id": "UUBWWs3R8BqD"
      },
      "execution_count": 81,
      "outputs": []
    },
    {
      "cell_type": "code",
      "source": [
        "# Final DB Index\n",
        "final_db_index = davies_bouldin_score(scaled_features, customer_data[\"Cluster\"])"
      ],
      "metadata": {
        "id": "1a1VmJHL8D_8"
      },
      "execution_count": 82,
      "outputs": []
    },
    {
      "cell_type": "code",
      "source": [
        "print(f\"Final Davies-Bouldin Index: {final_db_index}\")"
      ],
      "metadata": {
        "colab": {
          "base_uri": "https://localhost:8080/"
        },
        "id": "6HaHYXtA8G-r",
        "outputId": "a7ddb939-5203-4e9f-bb32-612bf5384bdd"
      },
      "execution_count": 83,
      "outputs": [
        {
          "output_type": "stream",
          "name": "stdout",
          "text": [
            "Final Davies-Bouldin Index: 1.064603566345228\n"
          ]
        }
      ]
    },
    {
      "cell_type": "code",
      "source": [
        "import matplotlib.pyplot as plt"
      ],
      "metadata": {
        "id": "fh6dQe-X8Jaa"
      },
      "execution_count": 84,
      "outputs": []
    },
    {
      "cell_type": "code",
      "source": [
        "from sklearn.decomposition import PCA"
      ],
      "metadata": {
        "id": "2qw61jeK8L60"
      },
      "execution_count": 85,
      "outputs": []
    },
    {
      "cell_type": "code",
      "source": [
        "# Reduce dimensions to 2D for visualization\n",
        "pca = PCA(n_components=2)"
      ],
      "metadata": {
        "id": "KSAXa_yc8OAk"
      },
      "execution_count": 86,
      "outputs": []
    },
    {
      "cell_type": "code",
      "source": [
        "pca_features = pca.fit_transform(scaled_features)"
      ],
      "metadata": {
        "id": "8WTK6Nch8QiR"
      },
      "execution_count": 87,
      "outputs": []
    },
    {
      "cell_type": "code",
      "source": [
        "# Visualize clusters\n",
        "plt.figure(figsize=(10, 6))\n",
        "\n",
        "# Create the scatter plot and store the result\n",
        "scatter = plt.scatter(pca_features[:, 0], pca_features[:, 1], c=customer_data[\"Cluster\"], cmap=\"viridis\", s=50)\n",
        "\n",
        "plt.title(f\"Customer Segmentation with {optimal_clusters} Clusters\")\n",
        "plt.xlabel(\"PCA Component 1\")\n",
        "plt.ylabel(\"PCA Component 2\")\n",
        "\n",
        "# Add a colorbar, explicitly linking it to the scatter plot\n",
        "plt.colorbar(scatter, label=\"Cluster\")"
      ],
      "metadata": {
        "colab": {
          "base_uri": "https://localhost:8080/",
          "height": 498
        },
        "id": "bWs565Xe8tvj",
        "outputId": "45d0f64a-224a-4e43-d953-a44546b96f72"
      },
      "execution_count": 94,
      "outputs": [
        {
          "output_type": "execute_result",
          "data": {
            "text/plain": [
              "<matplotlib.colorbar.Colorbar at 0x7ce8e0880dd0>"
            ]
          },
          "metadata": {},
          "execution_count": 94
        },
        {
          "output_type": "display_data",
          "data": {
            "text/plain": [
              "<Figure size 1000x600 with 2 Axes>"
            ],
            "image/png": "[encoded data removed]"
          },
          "metadata": {}
        }
      ]
    },
    {
      "cell_type": "code",
      "source": [
        "plt.show()"
      ],
      "metadata": {
        "id": "WDhmQ9ZC85Ii"
      },
      "execution_count": 95,
      "outputs": []
    },
    {
      "cell_type": "code",
      "source": [
        "# Save customer clustering data to a CSV\n",
        "customer_data[[\"CustomerID\", \"Cluster\"]].to_csv(\"Customer_Segmentation.csv\", index=False)\n",
        "print(\"Customer segmentation saved as 'Customer_Segmentation.csv'!\")\n"
      ],
      "metadata": {
        "colab": {
          "base_uri": "https://localhost:8080/"
        },
        "id": "C8xsfYgU87vf",
        "outputId": "db290220-1cd1-47b3-c013-3843303d973e"
      },
      "execution_count": 96,
      "outputs": [
        {
          "output_type": "stream",
          "name": "stdout",
          "text": [
            "Customer segmentation saved as 'Customer_Segmentation.csv'!\n"
          ]
        }
      ]
    },
    {
      "cell_type": "code",
      "source": [
        "!pip install fpdf  # Install the fpdf package\n",
        "from fpdf import FPDF\n",
        "\n",
        "# Initialize PDF\n",
        "pdf = FPDF()\n",
        "pdf.set_auto_page_break(auto=True, margin=15)\n",
        "pdf.add_page()\n",
        "\n",
        "# Add title\n",
        "pdf.set_font(\"Arial\", size=16)\n",
        "pdf.cell(200, 10, txt=\"Customer Segmentation Report\", ln=True, align=\"C\")\n",
        "pdf.ln(10)\n",
        "\n",
        "# Add clustering details\n",
        "pdf.set_font(\"Arial\", size=12)\n",
        "pdf.multi_cell(0, 10, txt=(\n",
        "    f\"Clustering Results:\\n\"\n",
        "    f\"1. Number of Clusters: {optimal_clusters}\\n\"\n",
        "    f\"2. Davies-Bouldin Index: {final_db_index:.2f}\\n\"\n",
        "    f\"3. Clustering performed using KMeans algorithm with the following features:\\n\"\n",
        "    f\"   - TotalSpent\\n\"\n",
        "    f\"   - TotalTransactions\\n\"\n",
        "    f\"   - TotalQuantity\\n\"\n",
        "    f\"   - AvgTransactionValue\\n\"\n",
        "    f\"   - Region\\n\"\n",
        "))\n",
        "pdf.ln(5)\n",
        "\n",
        "# Add insights\n",
        "pdf.multi_cell(0, 10, txt=(\n",
        "    \"Insights:\\n\"\n",
        "    \"1. The clustering algorithm grouped customers into distinct segments based on their spending patterns, transaction behavior, and regional preferences.\\n\"\n",
        "    \"2. Cluster 0 represents high-value customers who spend the most and have frequent transactions.\\n\"\n",
        "    \"3. Cluster 1 represents moderate-value customers with average spending and transaction frequency.\\n\"\n",
        "    \"4. Regional preferences and average transaction values were significant factors in forming clusters.\\n\"\n",
        "))\n",
        "pdf.ln(5)\n",
        "\n",
        "# Save PDF\n",
        "pdf.output(\"Customer_Segmentation_Report.pdf\")\n",
        "print(\"PDF report saved as 'Customer_Segmentation_Report.pdf'\")"
      ],
      "metadata": {
        "colab": {
          "base_uri": "https://localhost:8080/"
        },
        "id": "pFYMskb89Osp",
        "outputId": "ea4f1a3f-688f-47d6-abbd-785cf33de028"
      },
      "execution_count": 98,
      "outputs": [
        {
          "output_type": "stream",
          "name": "stdout",
          "text": [
            "Collecting fpdf\n",
            "  Downloading fpdf-1.7.2.tar.gz (39 kB)\n",
            "  Preparing metadata (setup.py) ... \u001b[?25l\u001b[?25hdone\n",
            "Building wheels for collected packages: fpdf\n",
            "  Building wheel for fpdf (setup.py) ... \u001b[?25l\u001b[?25hdone\n",
            "  Created wheel for fpdf: filename=fpdf-1.7.2-py2.py3-none-any.whl size=40704 sha256=c284b45b832da74dee47c3d10678877ed49c173197f0b62fa9ea05bd4de0daeb\n",
            "  Stored in directory: /root/.cache/pip/wheels/65/4f/66/bbda9866da446a72e206d6484cd97381cbc7859a7068541c36\n",
            "Successfully built fpdf\n",
            "Installing collected packages: fpdf\n",
            "Successfully installed fpdf-1.7.2\n",
            "PDF report saved as 'Customer_Segmentation_Report.pdf'\n"
          ]
        }
      ]
    }
  ]
}
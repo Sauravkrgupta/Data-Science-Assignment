{
  "nbformat": 4,
  "nbformat_minor": 0,
  "metadata": {
    "colab": {
      "provenance": [],
      "toc_visible": true,
      "authorship_tag": "ABX9TyNsQ7XLsQjOY8FtUi9F8w2l",
      "include_colab_link": true
    },
    "kernelspec": {
      "name": "python3",
      "display_name": "Python 3"
    },
    "language_info": {
      "name": "python"
    }
  },
  "cells": [
    {
      "cell_type": "markdown",
      "metadata": {
        "id": "view-in-github",
        "colab_type": "text"
      },
      "source": [
        "<a href=\"https://colab.research.google.com/github/Sauravkrgupta/Data-Science-Assignment/blob/main/Saurav_Kumar_Lookalike.ipynb\" target=\"_parent\"><img src=\"https://colab.research.google.com/assets/colab-badge.svg\" alt=\"Open In Colab\"/></a>"
      ]
    },
    {
      "cell_type": "code",
      "execution_count": 37,
      "metadata": {
        "id": "m7e5lLzHr6Fy"
      },
      "outputs": [],
      "source": [
        "import pandas as pd"
      ]
    },
    {
      "cell_type": "code",
      "source": [
        "# Load datasets\n",
        "customers = pd.read_csv(\"Customers.csv\")"
      ],
      "metadata": {
        "id": "Km9kLOtr4bPl"
      },
      "execution_count": 38,
      "outputs": []
    },
    {
      "cell_type": "code",
      "source": [
        "products = pd.read_csv(\"Products.csv\")"
      ],
      "metadata": {
        "id": "VbQKC5nZ4ejX"
      },
      "execution_count": 39,
      "outputs": []
    },
    {
      "cell_type": "code",
      "source": [
        "transactions = pd.read_csv(\"Transactions.csv\")"
      ],
      "metadata": {
        "id": "3iQggDMT4hpZ"
      },
      "execution_count": 40,
      "outputs": []
    },
    {
      "cell_type": "code",
      "source": [
        "# Merge datasets\n",
        "transactions_customers = transactions.merge(customers, on=\"CustomerID\", how=\"inner\")"
      ],
      "metadata": {
        "id": "ZoHnhfF24i_A"
      },
      "execution_count": 41,
      "outputs": []
    },
    {
      "cell_type": "code",
      "source": [
        "data = transactions_customers.merge(products, on=\"ProductID\", how=\"inner\")"
      ],
      "metadata": {
        "id": "FBR6qv304nwb"
      },
      "execution_count": 42,
      "outputs": []
    },
    {
      "cell_type": "code",
      "source": [
        "# Display merged data\n",
        "print(data.head())"
      ],
      "metadata": {
        "colab": {
          "base_uri": "https://localhost:8080/"
        },
        "id": "1pWbuGfZ4qIx",
        "outputId": "fc4b56d6-ac22-4cf2-fdd1-3cb443871c78"
      },
      "execution_count": 43,
      "outputs": [
        {
          "output_type": "stream",
          "name": "stdout",
          "text": [
            "  TransactionID CustomerID ProductID      TransactionDate  Quantity  \\\n",
            "0        T00001      C0199      P067  2024-08-25 12:38:23         1   \n",
            "1        T00112      C0146      P067  2024-05-27 22:23:54         1   \n",
            "2        T00166      C0127      P067  2024-04-25 07:38:55         1   \n",
            "3        T00272      C0087      P067  2024-03-26 22:55:37         2   \n",
            "4        T00363      C0070      P067  2024-03-21 15:10:10         3   \n",
            "\n",
            "   TotalValue  Price_x     CustomerName         Region  SignupDate  \\\n",
            "0      300.68   300.68   Andrea Jenkins         Europe  2022-12-03   \n",
            "1      300.68   300.68  Brittany Harvey           Asia  2024-09-04   \n",
            "2      300.68   300.68  Kathryn Stevens         Europe  2024-04-04   \n",
            "3      601.36   300.68  Travis Campbell  South America  2024-04-11   \n",
            "4      902.04   300.68    Timothy Perez         Europe  2022-03-15   \n",
            "\n",
            "                       ProductName     Category  Price_y  \n",
            "0  ComfortLiving Bluetooth Speaker  Electronics   300.68  \n",
            "1  ComfortLiving Bluetooth Speaker  Electronics   300.68  \n",
            "2  ComfortLiving Bluetooth Speaker  Electronics   300.68  \n",
            "3  ComfortLiving Bluetooth Speaker  Electronics   300.68  \n",
            "4  ComfortLiving Bluetooth Speaker  Electronics   300.68  \n"
          ]
        }
      ]
    },
    {
      "cell_type": "code",
      "source": [
        "# Create pivot table: Customers vs. Products (quantities purchased)\n",
        "customer_product_matrix = data.pivot_table( index=\"CustomerID\", columns=\"ProductID\", values=\"Quantity\", aggfunc=\"sum\", fill_value=0\n",
        ")"
      ],
      "metadata": {
        "id": "k6rCSw1H4s8Q"
      },
      "execution_count": 45,
      "outputs": []
    },
    {
      "cell_type": "code",
      "source": [
        "print(customer_product_matrix.head())"
      ],
      "metadata": {
        "colab": {
          "base_uri": "https://localhost:8080/"
        },
        "id": "xt-uFFTn4zbz",
        "outputId": "0b56d9d9-0c24-4da0-c34f-9394ded7d8f6"
      },
      "execution_count": 46,
      "outputs": [
        {
          "output_type": "stream",
          "name": "stdout",
          "text": [
            "ProductID   P001  P002  P003  P004  P005  P006  P007  P008  P009  P010  ...  \\\n",
            "CustomerID                                                              ...   \n",
            "C0001          0     0     0     0     0     0     0     0     0     0  ...   \n",
            "C0002          0     0     0     4     0     0     0     0     0     0  ...   \n",
            "C0003          0     4     0     0     0     3     0     0     0     0  ...   \n",
            "C0004          0     0     0     0     0     0     0     2     0     0  ...   \n",
            "C0005          0     0     0     0     0     0     0     0     0     0  ...   \n",
            "\n",
            "ProductID   P091  P092  P093  P094  P095  P096  P097  P098  P099  P100  \n",
            "CustomerID                                                              \n",
            "C0001          0     0     0     0     0     2     0     0     0     0  \n",
            "C0002          0     0     0     0     2     0     0     0     0     0  \n",
            "C0003          0     0     0     0     0     0     0     0     0     0  \n",
            "C0004          0     0     0     0     0     0     3     0     0     0  \n",
            "C0005          0     0     0     0     0     0     0     0     0     0  \n",
            "\n",
            "[5 rows x 100 columns]\n"
          ]
        }
      ]
    },
    {
      "cell_type": "code",
      "source": [
        "from sklearn.metrics.pairwise import cosine_similarity"
      ],
      "metadata": {
        "id": "H-xWs_C243zK"
      },
      "execution_count": 47,
      "outputs": []
    },
    {
      "cell_type": "code",
      "source": [
        "# Compute cosine similarity\n",
        "similarity_matrix = cosine_similarity(customer_product_matrix)"
      ],
      "metadata": {
        "id": "7GWpdJkY47ev"
      },
      "execution_count": 48,
      "outputs": []
    },
    {
      "cell_type": "code",
      "source": [
        "# Create a DataFrame to make it easier to work with\n",
        "similarity_df = pd.DataFrame(\n",
        "    similarity_matrix,\n",
        "    index=customer_product_matrix.index,\n",
        "    columns=customer_product_matrix.index\n",
        ")"
      ],
      "metadata": {
        "id": "QkmO40up5Avl"
      },
      "execution_count": 49,
      "outputs": []
    },
    {
      "cell_type": "code",
      "source": [
        "print(similarity_df.head())"
      ],
      "metadata": {
        "colab": {
          "base_uri": "https://localhost:8080/"
        },
        "id": "lYmkpqqE5Do9",
        "outputId": "2d092d93-55ef-4a02-891e-7a5316544565"
      },
      "execution_count": 50,
      "outputs": [
        {
          "output_type": "stream",
          "name": "stdout",
          "text": [
            "CustomerID  C0001  C0002     C0003     C0004     C0005  C0006     C0007  \\\n",
            "CustomerID                                                                \n",
            "C0001         1.0    0.0  0.000000  0.000000  0.000000    0.0  0.214834   \n",
            "C0002         0.0    1.0  0.000000  0.000000  0.000000    0.0  0.000000   \n",
            "C0003         0.0    0.0  1.000000  0.097980  0.308697    0.0  0.000000   \n",
            "C0004         0.0    0.0  0.097980  1.000000  0.168034    0.0  0.000000   \n",
            "C0005         0.0    0.0  0.308697  0.168034  1.000000    0.0  0.000000   \n",
            "\n",
            "CustomerID     C0008  C0009     C0010  ...     C0191     C0192  C0193  \\\n",
            "CustomerID                             ...                              \n",
            "C0001       0.000000    0.0  0.000000  ...  0.061721  0.000000    0.0   \n",
            "C0002       0.262071    0.0  0.000000  ...  0.000000  0.000000    0.0   \n",
            "C0003       0.313786    0.0  0.000000  ...  0.000000  0.000000    0.0   \n",
            "C0004       0.048038    0.0  0.149854  ...  0.000000  0.000000    0.0   \n",
            "C0005       0.000000    0.0  0.000000  ...  0.000000  0.325396    0.0   \n",
            "\n",
            "CustomerID     C0194  C0195  C0196  C0197  C0198     C0199  C0200  \n",
            "CustomerID                                                         \n",
            "C0001       0.469668    0.0    0.0    0.0    0.0  0.438178    0.0  \n",
            "C0002       0.000000    0.0    0.0    0.0    0.0  0.000000    0.0  \n",
            "C0003       0.000000    0.0    0.0    0.0    0.0  0.000000    0.0  \n",
            "C0004       0.079212    0.0    0.0    0.0    0.0  0.092376    0.0  \n",
            "C0005       0.083189    0.0    0.0    0.0    0.0  0.000000    0.0  \n",
            "\n",
            "[5 rows x 199 columns]\n"
          ]
        }
      ]
    },
    {
      "cell_type": "code",
      "source": [
        "# Get the first 20 customers\n",
        "top_customers = customers[\"CustomerID\"][:20]"
      ],
      "metadata": {
        "id": "NWoYDLQb5GBc"
      },
      "execution_count": 51,
      "outputs": []
    },
    {
      "cell_type": "code",
      "source": [
        "# Dictionary to store lookalike recommendations\n",
        "lookalike_recommendations = {}\n"
      ],
      "metadata": {
        "id": "6UzW2dXN5JQk"
      },
      "execution_count": 52,
      "outputs": []
    },
    {
      "cell_type": "code",
      "source": [
        "# Find top 3 lookalikes for each customer\n",
        "for cust_id in top_customers:\n",
        "    similar_customers = similarity_df[cust_id].sort_values(ascending=False).iloc[1:4]\n",
        "    lookalike_recommendations[cust_id] = list(similar_customers.items())"
      ],
      "metadata": {
        "id": "_0UB_v7v5Obp"
      },
      "execution_count": 53,
      "outputs": []
    },
    {
      "cell_type": "code",
      "source": [
        "# Print recommendations\n",
        "for cust, similars in lookalike_recommendations.items():\n",
        "    print(f\"Customer {cust}: {similars}\")\n"
      ],
      "metadata": {
        "colab": {
          "base_uri": "https://localhost:8080/"
        },
        "id": "WnlDME2x5Pon",
        "outputId": "ef8792e3-2a43-436c-af39-cdd8394e0897"
      },
      "execution_count": 54,
      "outputs": [
        {
          "output_type": "stream",
          "name": "stdout",
          "text": [
            "Customer C0001: [('C0097', 0.5477225575051661), ('C0194', 0.469668218313862), ('C0199', 0.4381780460041329)]\n",
            "Customer C0002: [('C0030', 0.37282185960072), ('C0091', 0.3339135484518728), ('C0071', 0.329914439536929)]\n",
            "Customer C0003: [('C0134', 0.5199469468957452), ('C0181', 0.5175973113765044), ('C0144', 0.39999999999999997)]\n",
            "Customer C0004: [('C0070', 0.4988876515698588), ('C0132', 0.4381780460041328), ('C0063', 0.3360672201667223)]\n",
            "Customer C0005: [('C0096', 0.6482037235521645), ('C0055', 0.5144957554275265), ('C0064', 0.3328770246548891)]\n",
            "Customer C0006: [('C0058', 0.6488856845230502), ('C0040', 0.629511580291707), ('C0178', 0.3746343246326776)]\n",
            "Customer C0007: [('C0020', 0.5883484054145521), ('C0079', 0.49613893835683387), ('C0026', 0.36313651960128146)]\n",
            "Customer C0008: [('C0144', 0.39223227027636803), ('C0088', 0.33968311024337877), ('C0003', 0.31378581622109447)]\n",
            "Customer C0009: [('C0140', 0.560112033611204), ('C0162', 0.5132649025747366), ('C0062', 0.49507377148833714)]\n",
            "Customer C0010: [('C0033', 0.48666426339228763), ('C0077', 0.42479539524287324), ('C0094', 0.40590605489504306)]\n",
            "Customer C0011: [('C0135', 0.4841820261350419), ('C0120', 0.3568206200700315), ('C0173', 0.3307592922378892)]\n",
            "Customer C0012: [('C0164', 0.4529108136578383), ('C0052', 0.4086031347641993), ('C0173', 0.3577708763999663)]\n",
            "Customer C0013: [('C0058', 0.5345224838248488), ('C0040', 0.5185629788417315), ('C0169', 0.4409585518440985)]\n",
            "Customer C0014: [('C0128', 0.8944271909999159), ('C0159', 0.7844645405527362), ('C0136', 0.46188021535170054)]\n",
            "Customer C0015: [('C0073', 0.6324555320336758), ('C0036', 0.6067798762169179), ('C0059', 0.45683219257612856)]\n",
            "Customer C0016: [('C0187', 0.6449020216370241), ('C0064', 0.4611123341633879), ('C0145', 0.3954372976473722)]\n",
            "Customer C0017: [('C0037', 0.3988620176087328), ('C0071', 0.38490017945975047), ('C0183', 0.34570865256115424)]\n",
            "Customer C0018: [('C0177', 0.3938927711338647), ('C0064', 0.35665425149468194), ('C0132', 0.35032452487268534)]\n",
            "Customer C0019: [('C0083', 0.48989794855663565), ('C0064', 0.4879954250643349), ('C0039', 0.46475800154489)]\n",
            "Customer C0020: [('C0026', 0.6172133998483676), ('C0007', 0.5883484054145521), ('C0104', 0.4886777774252209)]\n"
          ]
        }
      ]
    },
    {
      "cell_type": "code",
      "source": [
        "# Prepare data for saving\n",
        "lookalike_list = []"
      ],
      "metadata": {
        "id": "cE659kaz5T22"
      },
      "execution_count": 55,
      "outputs": []
    },
    {
      "cell_type": "code",
      "source": [
        "for cust_id, similars in lookalike_recommendations.items():\n",
        "    for similar_cust, score in similars:\n",
        "        lookalike_list.append({\n",
        "            \"CustomerID\": cust_id,\n",
        "            \"SimilarCustomerID\": similar_cust,\n",
        "            \"SimilarityScore\": score\n",
        "        })"
      ],
      "metadata": {
        "id": "lXlm-Dfx5a9X"
      },
      "execution_count": 56,
      "outputs": []
    },
    {
      "cell_type": "code",
      "source": [
        "lookalike_df = pd.DataFrame(lookalike_list)"
      ],
      "metadata": {
        "id": "zNnwAA1o5cVu"
      },
      "execution_count": 57,
      "outputs": []
    },
    {
      "cell_type": "code",
      "source": [
        "# Save to CSV\n",
        "lookalike_df.to_csv(\"Lookalike.csv\", index=False)"
      ],
      "metadata": {
        "id": "Mz2DiqXX5gdT"
      },
      "execution_count": 58,
      "outputs": []
    },
    {
      "cell_type": "code",
      "source": [
        "print(\"Lookalike.csv saved successfully!\")"
      ],
      "metadata": {
        "colab": {
          "base_uri": "https://localhost:8080/"
        },
        "id": "tBr-IO765h8T",
        "outputId": "c6c3dad4-0213-428e-dfe2-c9eefe659d24"
      },
      "execution_count": 59,
      "outputs": [
        {
          "output_type": "stream",
          "name": "stdout",
          "text": [
            "Lookalike.csv saved successfully!\n"
          ]
        }
      ]
    }
  ]
}